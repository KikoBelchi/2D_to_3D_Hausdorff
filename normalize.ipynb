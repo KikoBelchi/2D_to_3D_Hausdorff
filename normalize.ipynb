{
 "cells": [
  {
   "cell_type": "code",
   "execution_count": 1,
   "metadata": {},
   "outputs": [
    {
     "name": "stdout",
     "output_type": "stream",
     "text": [
      "Cuda device = cpu\n"
     ]
    }
   ],
   "source": [
    "# coding: utf-8\n",
    "\n",
    "\"\"\"Visualization of the transforms in data_loading.py\"\"\"\n",
    "# **Author**: `Francisco Belchí <frbegu@gmail.com>, <https://github.com/KikoBelchi/2d_to_3d>`_\n",
    "\n",
    "\n",
    "\n",
    "# Here we will compute\n",
    "# normalize_xyz_min = [x_min, y_min, z_min], \n",
    "# where x_min corresponds to the minimum of the X 3D coordinate of all the vertices of within the training set.\n",
    "\n",
    "\n",
    "\n",
    "\n",
    "\n",
    "###\n",
    "### Imports\n",
    "###\n",
    "from __future__ import print_function, division\n",
    "import itertools\n",
    "import os\n",
    "import torch\n",
    "import pandas as pd\n",
    "from skimage import io, transform # package 'scikit-image'\n",
    "import numpy as np\n",
    "from torch.utils.data import Dataset, DataLoader\n",
    "from torchvision import transforms, utils\n",
    "from PIL import Image\n",
    "\n",
    "# Ignore warnings\n",
    "import warnings\n",
    "warnings.filterwarnings(\"ignore\")\n",
    "\n",
    "# Import functions from data_loading and other scripts\n",
    "import data_loading\n",
    "import transfer_learning_TowelWall\n",
    "from functions_data_processing import find_min_max_xyz_training, find_min_max_xyz_training_wo_outliers\n",
    "\n",
    "\n",
    "# Imports for plotting\n",
    "import matplotlib.pyplot as plt # Do not use when running on the server\n",
    "from mpl_toolkits.mplot3d import axes3d # Do not use when running on the server\n",
    "\n",
    "# Allow the interactive rotation of 3D scatter plots in jupyter notebook\n",
    "import sys    \n",
    "import os    \n",
    "file_name =  os.path.basename(sys.argv[0])\n",
    "#print(file_name == 'ipykernel_launcher.py') # This basicaly asks whether this file is a jupyter notebook?\n",
    "if __name__ == \"__main__\":\n",
    "    if file_name == 'ipykernel_launcher.py': # Run only in .ipynb, not in exported .py scripts\n",
    "        get_ipython().run_line_magic('matplotlib', 'notebook') # Equivalent to ''%matplotlib notebook', but it is also understood by .py scripts\n"
   ]
  },
  {
   "cell_type": "code",
   "execution_count": 2,
   "metadata": {},
   "outputs": [],
   "source": [
    "crop_centre_or_ROI = 1\n",
    "sequence_name = 'TowelWall'\n",
    "dataset_number='2'\n",
    "camera_coordinates=1\n",
    "reordered_dataset=1\n",
    "submesh_num_vertices_vertical=2\n",
    "submesh_num_vertices_horizontal=3\n",
    "num_selected_vertices = submesh_num_vertices_vertical*submesh_num_vertices_horizontal # dummy variable if reordered_dataset==1\n",
    "num_groups = 40\n",
    "num_animationFramesPerGroup=99\n",
    "batch_size=4\n",
    "num_workers=4\n",
    "random_seed_to_choose_video_sequences = 1\n",
    "random_seed_to_shuffle_training_frames = 2\n",
    "random_seed_to_shuffle_validation_frames = 3"
   ]
  },
  {
   "cell_type": "code",
   "execution_count": 3,
   "metadata": {},
   "outputs": [
    {
     "name": "stdout",
     "output_type": "stream",
     "text": [
      "Length of transformed_dataset (without including data augmentation): 3960\n"
     ]
    }
   ],
   "source": [
    "if crop_centre_or_ROI==0: # centre crop\n",
    "    transform = transforms.Compose([transforms.CenterCrop(224),\n",
    "                                    transforms.ToTensor(),\n",
    "                                    transforms.Normalize([0.485, 0.456, 0.406],\n",
    "                                                         [0.229, 0.224, 0.225])\n",
    "                                   ])    \n",
    "elif crop_centre_or_ROI==1: # Region of interest. Bounding box containing the towel\n",
    "    transform = transforms.Compose([transforms.Resize(224),\n",
    "                                    transforms.ToTensor(),\n",
    "                                    transforms.Normalize([0.485, 0.456, 0.406],\n",
    "                                                         [0.229, 0.224, 0.225])\n",
    "                                   ])  \n",
    "\n",
    "transformed_dataset = data_loading.vertices_Dataset(sequence_name = sequence_name, \n",
    "                                                    dataset_number = dataset_number,\n",
    "                                                    transform=transform,\n",
    "                                                    camera_coordinates=camera_coordinates,\n",
    "                                                    crop_centre_or_ROI=crop_centre_or_ROI,\n",
    "                                                    reordered_dataset = reordered_dataset,\n",
    "                                                    num_vertices=num_selected_vertices,\n",
    "                                                    submesh_num_vertices_vertical = submesh_num_vertices_vertical,\n",
    "                                                    submesh_num_vertices_horizontal = submesh_num_vertices_horizontal)\n",
    "\n",
    "print('Length of transformed_dataset (without including data augmentation):', len(transformed_dataset))"
   ]
  },
  {
   "cell_type": "code",
   "execution_count": 4,
   "metadata": {},
   "outputs": [
    {
     "name": "stdout",
     "output_type": "stream",
     "text": [
      "Training sequences: [6, 37, 13, 18, 12, 19, 14, 31, 24, 35, 1, 36, 25, 40, 7, 8, 23, 33, 21, 11, 16, 2, 20, 17, 5, 32, 39, 28, 34, 29, 27, 30]\n",
      "Validation sequences: [15, 4, 3, 9, 26, 38, 10, 22]\n",
      "\n",
      "Length of transformed_dataset: 3960\n",
      "Length of transformed_dataset_train: 3168\n",
      "Length of transformed_dataset_val: 792\n"
     ]
    }
   ],
   "source": [
    "###\n",
    "### Training/validation split using random seeds for reproducing it below\n",
    "###\n",
    "# Randomly splitting sequences into train/val, \n",
    "# and then randomizing the ordering of all frames of all sequences in 'train' and doing the same with 'val'.\n",
    "# Every random choice has a seed for reproducibility.\n",
    "if __name__ == \"__main__\":\n",
    "#     print('num_groups =', num_groups)\n",
    "#     print('num_animationFramesPerGroup =', num_animationFramesPerGroup)\n",
    "    \n",
    "    [transformed_dataset_train, transformed_dataset_val] = data_loading.random_split_notMixingSequences( \n",
    "        transformed_dataset, num_groups = num_groups, \n",
    "        num_animationFramesPerGroup = num_animationFramesPerGroup,\n",
    "        random_seed_to_choose_video_sequences = random_seed_to_choose_video_sequences,\n",
    "        random_seed_to_shuffle_training_frames = random_seed_to_shuffle_training_frames,\n",
    "        random_seed_to_shuffle_validation_frames = random_seed_to_shuffle_validation_frames)\n",
    "\n",
    "    dataset_sizes = {'train': len(transformed_dataset_train),\n",
    "                    'val': len(transformed_dataset_val)}\n",
    "    print('Length of transformed_dataset:', len(transformed_dataset))\n",
    "    print('Length of transformed_dataset_train:', dataset_sizes['train'])\n",
    "    print('Length of transformed_dataset_val:', dataset_sizes['val'])\n",
    "   \n",
    "    dataloaders = {'train': DataLoader(transformed_dataset_train, batch_size=batch_size,\n",
    "                                       shuffle=True, num_workers=num_workers),\n",
    "                   'val': DataLoader(transformed_dataset_val, batch_size=batch_size, \n",
    "                                     shuffle=True, num_workers=num_workers)}"
   ]
  },
  {
   "cell_type": "markdown",
   "metadata": {},
   "source": [
    "# Find the min and max values with which to normalize the x, y, z world/camera coordinates \n",
    "### (in this case, camera, because we instanciated the dataset with camera_coordinates=1)"
   ]
  },
  {
   "cell_type": "code",
   "execution_count": null,
   "metadata": {},
   "outputs": [],
   "source": [
    "# if __name__ == \"__main__\":\n",
    "#     x_min, y_min, z_min, x_max, y_max, z_max = find_min_max_xyz_training(dataloaders)\n",
    "#     print(\"%8.2f %8.2f %8.2f %8.2f %8.2f %8.2f\" % (x_min, y_min, z_min, x_max, y_max, z_max))"
   ]
  },
  {
   "cell_type": "markdown",
   "metadata": {},
   "source": [
    "# Try to apply min and max normalization to the x, y, z coordinates of the whole instantiation of the dataset\n",
    "### It does not work, so create instead in transfer_learning_TowelWall.py a new dataset in which the normalization found is applied and then make the same train/val split"
   ]
  },
  {
   "cell_type": "code",
   "execution_count": null,
   "metadata": {
    "scrolled": false
   },
   "outputs": [],
   "source": [
    "# def apply_min_max_xyz_normalization(dataloaders, x_min, y_min, z_min, x_max, y_max, z_max):\n",
    "#     for i_batch, sample_batched in enumerate(dataloaders['train']):\n",
    "#         sample_batched['Vertex_coordinates'][:,:,0]=(sample_batched['Vertex_coordinates'][:,:,0]-x_min)/(x_max-x_min)\n",
    "#         sample_batched['Vertex_coordinates'][:,:,1]=(sample_batched['Vertex_coordinates'][:,:,1]-y_min)/(y_max-y_min)\n",
    "#         sample_batched['Vertex_coordinates'][:,:,2]=(sample_batched['Vertex_coordinates'][:,:,2]-z_min)/(z_max-z_min)\n",
    "#     return dataloaders # I tried both returning this and not returning anything and it didn't work either way\n",
    "\n",
    "# if __name__ == \"__main__\":\n",
    "#     dataloaders=apply_min_max_xyz_normalization(dataloaders, x_min, y_min, z_min, x_max, y_max, z_max)\n",
    "    \n",
    "#     # Check if it worked\n",
    "#     x_min, y_min, z_min, x_max, y_max, z_max = find_min_max_xyz_training(dataloaders)\n",
    "#     print(\"If it worked, this should be 0, 0, 0, 1, 1, 1: \\n%8.2f %8.2f %8.2f %8.2f %8.2f %8.2f\" % (x_min, y_min, z_min, x_max, y_max, z_max))"
   ]
  },
  {
   "cell_type": "markdown",
   "metadata": {},
   "source": [
    "# Apply the normalization 0<=x,y,z<=1 to the whole dataset via a new instantiation of new dataset class vertices_normalized_Dataset in data_loading after having checked the 3D coordinates of the training set."
   ]
  },
  {
   "cell_type": "code",
   "execution_count": null,
   "metadata": {
    "scrolled": false
   },
   "outputs": [],
   "source": [
    "if __name__ == \"__main__\":\n",
    "    x_min, y_min, z_min, x_max, y_max, z_max = find_min_max_xyz_training(dataloaders)\n",
    "    print(\"%8.2f %8.2f %8.2f %8.2f %8.2f %8.2f\" % (x_min, y_min, z_min, x_max, y_max, z_max))\n",
    "    normalize_xyz_min = [x_min, y_min, z_min]\n",
    "    normalize_xyz_max = [x_max, y_max, z_max]\n",
    "    \n",
    "    normalized_transformed_dataset = data_loading.vertices_normalized_Dataset(normalize_xyz_min=normalize_xyz_min,\n",
    "                                                                          normalize_xyz_max=normalize_xyz_max,\n",
    "                                                                          sequence_name = sequence_name,\n",
    "                                                                          dataset_number = dataset_number,\n",
    "                                                                          transform=transform,\n",
    "                                                                          camera_coordinates=camera_coordinates,\n",
    "                                                                          crop_centre_or_ROI=crop_centre_or_ROI,\n",
    "                                                                          reordered_dataset = reordered_dataset,\n",
    "                                                                          num_vertices=num_selected_vertices,\n",
    "                                                                          submesh_num_vertices_vertical = submesh_num_vertices_vertical,\n",
    "                                                                          submesh_num_vertices_horizontal = submesh_num_vertices_horizontal)\n",
    "\n",
    "    print('Length of normalized_transformed_dataset (without including data augmentation):', len(normalized_transformed_dataset))"
   ]
  },
  {
   "cell_type": "code",
   "execution_count": null,
   "metadata": {},
   "outputs": [],
   "source": [
    "###\n",
    "### Training/validation split using the random seeds from above\n",
    "###\n",
    "if __name__ == \"__main__\":\n",
    "    [normalized_transformed_dataset_train, normalized_transformed_dataset_val] = data_loading.random_split_notMixingSequences( \n",
    "        normalized_transformed_dataset, num_groups = num_groups, \n",
    "        num_animationFramesPerGroup = num_animationFramesPerGroup,\n",
    "        random_seed_to_choose_video_sequences = random_seed_to_choose_video_sequences,\n",
    "        random_seed_to_shuffle_training_frames = random_seed_to_shuffle_training_frames,\n",
    "        random_seed_to_shuffle_validation_frames = random_seed_to_shuffle_validation_frames)\n",
    "\n",
    "    normalized_dataset_sizes = {'train': len(normalized_transformed_dataset_train),\n",
    "                    'val': len(normalized_transformed_dataset_val)}\n",
    "    print('Length of normalized_transformed_dataset:', len(normalized_transformed_dataset))\n",
    "    print('Length of normalized_transformed_dataset_train:', normalized_dataset_sizes['train'])\n",
    "    print('Length of normalized_transformed_dataset_val:', normalized_dataset_sizes['val'])\n",
    "    \n",
    "    normalized_dataloaders = {'train': DataLoader(normalized_transformed_dataset_train, batch_size=batch_size,\n",
    "                                       shuffle=True, num_workers=num_workers),\n",
    "                   'val': DataLoader(normalized_transformed_dataset_val, batch_size=batch_size, \n",
    "                                     shuffle=True, num_workers=num_workers)}"
   ]
  },
  {
   "cell_type": "markdown",
   "metadata": {},
   "source": [
    "### Checking that it worked"
   ]
  },
  {
   "cell_type": "code",
   "execution_count": null,
   "metadata": {},
   "outputs": [],
   "source": [
    "if __name__ == \"__main__\":\n",
    "    x_min, y_min, z_min, x_max, y_max, z_max = find_min_max_xyz_training(normalized_dataloaders)\n",
    "    print(\"%8.2f %8.2f %8.2f %8.2f %8.2f %8.2f\" % (x_min, y_min, z_min, x_max, y_max, z_max))"
   ]
  },
  {
   "cell_type": "markdown",
   "metadata": {},
   "source": [
    "# Normalization 0<=x,y,z<=1 to the whole dataset using the (non-outlier values of) min and max of each observation in the training set."
   ]
  },
  {
   "cell_type": "code",
   "execution_count": 5,
   "metadata": {
    "scrolled": false
   },
   "outputs": [
    {
     "data": {
      "image/png": "[encoded data removed]",
      "text/plain": [
       "<Figure size 432x288 with 1 Axes>"
      ]
     },
     "metadata": {},
     "output_type": "display_data"
    },
    {
     "name": "stdout",
     "output_type": "stream",
     "text": [
      "   -5.27    -1.54    10.02     5.16     3.75    12.22\n",
      "Length of normalized_transformed_dataset (without including data augmentation): 3960\n"
     ]
    }
   ],
   "source": [
    "if __name__ == \"__main__\":\n",
    "    x_min, y_min, z_min, x_max, y_max, z_max = find_min_max_xyz_training_wo_outliers(dataloaders, boxplot_on=1)\n",
    "    print(\"%8.2f %8.2f %8.2f %8.2f %8.2f %8.2f\" % (x_min, y_min, z_min, x_max, y_max, z_max))\n",
    "    normalize_xyz_min = [x_min, y_min, z_min]\n",
    "    normalize_xyz_max = [x_max, y_max, z_max]\n",
    "    \n",
    "    normalized_transformed_dataset = data_loading.vertices_normalized_Dataset(normalize_xyz_min=normalize_xyz_min,\n",
    "                                                                          normalize_xyz_max=normalize_xyz_max,\n",
    "                                                                          sequence_name = sequence_name,\n",
    "                                                                          dataset_number = dataset_number,\n",
    "                                                                          transform=transform,\n",
    "                                                                          camera_coordinates=camera_coordinates,\n",
    "                                                                          crop_centre_or_ROI=crop_centre_or_ROI,\n",
    "                                                                          reordered_dataset = reordered_dataset,\n",
    "                                                                          num_vertices=num_selected_vertices,\n",
    "                                                                          submesh_num_vertices_vertical = submesh_num_vertices_vertical,\n",
    "                                                                          submesh_num_vertices_horizontal = submesh_num_vertices_horizontal)\n",
    "\n",
    "    print('Length of normalized_transformed_dataset (without including data augmentation):', len(normalized_transformed_dataset))"
   ]
  },
  {
   "cell_type": "markdown",
   "metadata": {},
   "source": [
    "x_min, y_min, z_min, x_max, y_max, z_max<br>\n",
    "With outliers:<br>\n",
    "    -5.27    -1.54     8.62     5.16     3.75    12.22 <br>\n",
    "Removing outliers:<br>\n",
    "    -5.27    -1.54    10.02     5.16     3.75    12.22"
   ]
  },
  {
   "cell_type": "code",
   "execution_count": 6,
   "metadata": {},
   "outputs": [
    {
     "name": "stdout",
     "output_type": "stream",
     "text": [
      "Training sequences: [6, 37, 13, 18, 12, 19, 14, 31, 24, 35, 1, 36, 25, 40, 7, 8, 23, 33, 21, 11, 16, 2, 20, 17, 5, 32, 39, 28, 34, 29, 27, 30]\n",
      "Validation sequences: [15, 4, 3, 9, 26, 38, 10, 22]\n",
      "\n",
      "Length of normalized_transformed_dataset: 3960\n",
      "Length of normalized_transformed_dataset_train: 3168\n",
      "Length of normalized_transformed_dataset_val: 792\n"
     ]
    }
   ],
   "source": [
    "###\n",
    "### Training/validation split using the random seeds from above\n",
    "###\n",
    "if __name__ == \"__main__\":\n",
    "    [normalized_transformed_dataset_train, normalized_transformed_dataset_val] = data_loading.random_split_notMixingSequences( \n",
    "        normalized_transformed_dataset, num_groups = num_groups, \n",
    "        num_animationFramesPerGroup = num_animationFramesPerGroup,\n",
    "        random_seed_to_choose_video_sequences = random_seed_to_choose_video_sequences,\n",
    "        random_seed_to_shuffle_training_frames = random_seed_to_shuffle_training_frames,\n",
    "        random_seed_to_shuffle_validation_frames = random_seed_to_shuffle_validation_frames)\n",
    "\n",
    "    normalized_dataset_sizes = {'train': len(normalized_transformed_dataset_train),\n",
    "                    'val': len(normalized_transformed_dataset_val)}\n",
    "    print('Length of normalized_transformed_dataset:', len(normalized_transformed_dataset))\n",
    "    print('Length of normalized_transformed_dataset_train:', normalized_dataset_sizes['train'])\n",
    "    print('Length of normalized_transformed_dataset_val:', normalized_dataset_sizes['val'])\n",
    "    \n",
    "    normalized_dataloaders = {'train': DataLoader(normalized_transformed_dataset_train, batch_size=batch_size,\n",
    "                                       shuffle=True, num_workers=num_workers),\n",
    "                   'val': DataLoader(normalized_transformed_dataset_val, batch_size=batch_size, \n",
    "                                     shuffle=True, num_workers=num_workers)}"
   ]
  },
  {
   "cell_type": "markdown",
   "metadata": {},
   "source": [
    "### Checking that it worked"
   ]
  },
  {
   "cell_type": "code",
   "execution_count": 8,
   "metadata": {},
   "outputs": [
    {
     "data": {
      "image/png": "[encoded data removed]",
      "text/plain": [
       "<Figure size 432x288 with 1 Axes>"
      ]
     },
     "metadata": {},
     "output_type": "display_data"
    },
    {
     "name": "stdout",
     "output_type": "stream",
     "text": [
      "    0.00     0.00     0.00     1.00     1.00     1.00\n"
     ]
    }
   ],
   "source": [
    "if __name__ == \"__main__\":\n",
    "    x_min, y_min, z_min, x_max, y_max, z_max = find_min_max_xyz_training_wo_outliers(normalized_dataloaders, boxplot_on=1)\n",
    "    print(\"%8.2f %8.2f %8.2f %8.2f %8.2f %8.2f\" % (x_min, y_min, z_min, x_max, y_max, z_max))"
   ]
  },
  {
   "cell_type": "code",
   "execution_count": null,
   "metadata": {},
   "outputs": [],
   "source": []
  }
 ],
 "metadata": {
  "kernelspec": {
   "display_name": "2d_to_3d_ipynb",
   "language": "python",
   "name": "2d_to_3d_ipynb"
  },
  "language_info": {
   "codemirror_mode": {
    "name": "ipython",
    "version": 3
   },
   "file_extension": ".py",
   "mimetype": "text/x-python",
   "name": "python",
   "nbconvert_exporter": "python",
   "pygments_lexer": "ipython3",
   "version": "3.6.5"
  }
 },
 "nbformat": 4,
 "nbformat_minor": 2
}
