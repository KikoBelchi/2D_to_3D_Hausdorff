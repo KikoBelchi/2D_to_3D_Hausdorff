{
 "cells": [
  {
   "cell_type": "markdown",
   "metadata": {},
   "source": [
    "# CAVEAT\n",
    "The following instruction **does not work for 3D plots**:\n",
    "```\n",
    "ax.set_aspect(aspect = 'equal')\n",
    "```"
   ]
  },
  {
   "cell_type": "markdown",
   "metadata": {},
   "source": [
    "# Imports"
   ]
  },
  {
   "cell_type": "code",
   "execution_count": null,
   "metadata": {},
   "outputs": [],
   "source": [
    "import numpy as np\n",
    "import pandas as pd\n",
    "import matplotlib.pyplot as plt\n",
    "from mpl_toolkits.mplot3d import axes3d\n",
    "from skimage import io\n",
    "\n",
    "# Allow the interactive rotation of 3D scatter plots in jupyter notebook\n",
    "import sys    \n",
    "import os    \n",
    "file_name =  os.path.basename(sys.argv[0])\n",
    "#print(file_name == 'ipykernel_launcher.py') # This basicaly asks whether this file is a jupyter notebook?\n",
    "if __name__ == \"__main__\":\n",
    "    if file_name == 'ipykernel_launcher.py': # Run only in .ipynb, not in exported .py scripts\n",
    "        get_ipython().run_line_magic('matplotlib', 'notebook') # Equivalent to ''%matplotlib notebook', but it is also understood by .py scripts\n",
    "        \n",
    "import functions_data_processing    \n",
    "from functions_data_processing import load_camera_params, get_variables_from_vertex_full_Dataframe, load_faces\n",
    "import functions_plot\n",
    "from functions_plot import plot_camera_and_vertices"
   ]
  },
  {
   "cell_type": "code",
   "execution_count": null,
   "metadata": {},
   "outputs": [],
   "source": [
    "print('Image size:')\n",
    "functions_data_processing.get_picture_size(verbose=1)"
   ]
  },
  {
   "cell_type": "markdown",
   "metadata": {},
   "source": [
    "# 3rd DataSet - RendersTowelWall3 (20/11/18)\n",
    "Towel Wall hang from different places, where a subsample of vertices is chosen.Subsampled dataset"
   ]
  },
  {
   "cell_type": "markdown",
   "metadata": {},
   "source": [
    "# Choose number of vertices in each direction"
   ]
  },
  {
   "cell_type": "code",
   "execution_count": null,
   "metadata": {},
   "outputs": [],
   "source": [
    "submesh_num_vertices_horizontal = 8\n",
    "submesh_num_vertices_vertical = 12\n",
    "\n",
    "from submesh import submesh_idx_from_num_vertices_in_each_direction\n",
    "submesh_idx = submesh_idx_from_num_vertices_in_each_direction(submesh_num_vertices_vertical = submesh_num_vertices_vertical,\n",
    "                                                              submesh_num_vertices_horizontal = submesh_num_vertices_horizontal)\n",
    "print(submesh_idx)"
   ]
  },
  {
   "cell_type": "code",
   "execution_count": null,
   "metadata": {},
   "outputs": [],
   "source": [
    "###\n",
    "### 3rd DataSet - RendersTowelWall3\n",
    "###\n",
    "# Choose sequence, animation frame and order of vertices\n",
    "sequence_name = 'TowelWall'\n",
    "dataset_number = '3'\n",
    "group_number = '001'\n",
    "animation_frame = '00022'\n",
    "reordered=1\n",
    "\n",
    "# Examples for which uv coordinates seem to perfectly match RGB\n",
    "# Example 1\n",
    "group_number = '005'\n",
    "animation_frame = '00004'\n",
    "# Example 2\n",
    "group_number = '002'\n",
    "animation_frame = '00031'\n",
    "\n",
    "# Examples for which uv coordinates don't seem to perfectly match RGB\n",
    "# Example 1\n",
    "group_number = '002'\n",
    "animation_frame = '00021'\n",
    "# Example 2\n",
    "group_number = '010'\n",
    "animation_frame = '00021'\n",
    "# Example 3\n",
    "group_number = '001'\n",
    "animation_frame = '00001'\n",
    "\n",
    "# Load camera parameters\n",
    "variables = load_camera_params(sequence_name = sequence_name, dataset_number = dataset_number)\n",
    "RT_matrix = variables['RT_matrix']\n",
    "RT_extended = variables['RT_extended']\n",
    "camera_worldCoord_x = variables['camera_worldCoord_x']\n",
    "camera_worldCoord_y = variables['camera_worldCoord_y']\n",
    "camera_worldCoord_z = variables['camera_worldCoord_z']\n",
    "Intrinsic_matrix = variables['Intrinsic_matrix']\n",
    "Camera_proj_matrix = variables['Camera_proj_matrix']\n",
    "\n",
    "# Load vertex data\n",
    "variables = get_variables_from_vertex_full_Dataframe(sequence_name=sequence_name, dataset_number=dataset_number, \n",
    "                                                     group_number=group_number, animation_frame=animation_frame,\n",
    "                                                     RT_extended=RT_extended, reordered=reordered,\n",
    "                                                     submesh_idx=submesh_idx, verbose=1)\n",
    "\n",
    "occlusion_mask_values = variables['occlusion_mask_values']\n",
    "u = variables['u']\n",
    "v = variables['v']\n",
    "u_visible = variables['u_visible']\n",
    "v_visible = variables['v_visible']\n",
    "u_occluded = variables['u_occluded']\n",
    "v_occluded = variables['v_occluded']\n",
    "X_world = variables['X_world']\n",
    "Y_world = variables['Y_world']\n",
    "Z_world = variables['Z_world']\n",
    "X_camera = variables['X_camera']\n",
    "Y_camera = variables['Y_camera']\n",
    "Z_camera = variables['Z_camera']\n",
    "nX_world = variables['nX_world']\n",
    "nY_world = variables['nY_world']\n",
    "nZ_world = variables['nZ_world']\n",
    "\n",
    "# Load face data\n",
    "faces = load_faces(sequence_name = sequence_name, dataset_number = dataset_number, verbose=1, reordered = reordered)"
   ]
  },
  {
   "cell_type": "markdown",
   "metadata": {},
   "source": [
    "## Showing the 2D animation frame"
   ]
  },
  {
   "cell_type": "code",
   "execution_count": null,
   "metadata": {},
   "outputs": [],
   "source": [
    "functions_plot.show_2D_animation_frame(sequence_name, dataset_number, group_number, animation_frame)"
   ]
  },
  {
   "cell_type": "markdown",
   "metadata": {},
   "source": [
    "## 3D scatter plot of the vertices\n",
    "(in world coordinates)"
   ]
  },
  {
   "cell_type": "code",
   "execution_count": null,
   "metadata": {},
   "outputs": [],
   "source": [
    "xmin, ymin, zmin, xmax, ymax, zmax= functions_plot.plot_3D_vertices(X=X_world, Y=Y_world, Z=Z_world, sequence_name=sequence_name,\n",
    "                        dataset_number=dataset_number, \n",
    "                        group_number=group_number, \n",
    "                        animation_frame=animation_frame)"
   ]
  },
  {
   "cell_type": "markdown",
   "metadata": {},
   "source": [
    "## Plot the normal vectors to the mesh at the vertices\n",
    "You can choose between world/camera coordinates\n",
    "and whether to plot the camera position as well."
   ]
  },
  {
   "cell_type": "code",
   "execution_count": null,
   "metadata": {},
   "outputs": [],
   "source": [
    "functions_plot.plot_normal_vectors(sequence_name=sequence_name,\n",
    "                        dataset_number=dataset_number, \n",
    "                        group_number=group_number, \n",
    "                        animation_frame=animation_frame, \n",
    "                        X=X_world, Y=Y_world, Z=Z_world,\n",
    "                        nX=nX_world, nY=nY_world, nZ=nZ_world,\n",
    "                        occlusion_mask_values=occlusion_mask_values,\n",
    "                        camera_x=camera_worldCoord_x,\n",
    "                        camera_y=camera_worldCoord_y,\n",
    "                        camera_z=camera_worldCoord_z,\n",
    "                        xmin=xmin, ymin=ymin, zmin=zmin, xmax=xmax, ymax=ymax, zmax=zmax,\n",
    "                        plot_camera=1, swap_axes=0)"
   ]
  },
  {
   "cell_type": "markdown",
   "metadata": {},
   "source": [
    "## 3D scatter plot of the vertices coloured by visibility\n",
    "(in world coordinates)"
   ]
  },
  {
   "cell_type": "code",
   "execution_count": null,
   "metadata": {},
   "outputs": [],
   "source": [
    "# 3D scatter plot of the vertices coloured by visibility\n",
    "# (with legend)\n",
    "\n",
    "fig = plt.figure()\n",
    "ax = fig.add_subplot(111, projection='3d')\n",
    "\n",
    "unique = list(set(occlusion_mask_values))\n",
    "#colors = [plt.cm.jet(float(i)/max(unique)) for i in unique]\n",
    "colors= ['b', 'y']\n",
    "for i, un in enumerate(unique):\n",
    "    xi = [X_world[j] for j  in range(len(X_world)) if occlusion_mask_values[j] == un]\n",
    "    yi = [Y_world[j] for j  in range(len(Y_world)) if occlusion_mask_values[j] == un]\n",
    "    zi = [Z_world[j] for j  in range(len(Z_world)) if occlusion_mask_values[j] == un]\n",
    "\n",
    "    ax.scatter(xi, yi, zi, c=colors[i], marker='o', s=50)\n",
    "\n",
    "ax.legend(['Visible', 'occluded'], loc=3)\n",
    "\n",
    "ax.set_xlabel('X')\n",
    "ax.set_ylabel('Y')\n",
    "ax.set_zlabel('Z')\n",
    "\n",
    "plt.title('Vertex visibility of mesh in ' + sequence_name + '_' + dataset_number + '\\nGroup ' + group_number + ' - Animation frame ' + animation_frame)\n",
    "\n",
    "ax.set_xlim([xmin, xmax])\n",
    "ax.set_ylim([ymin, ymax])\n",
    "ax.set_zlim([zmin, zmax])\n",
    "\n",
    "#ax.set_aspect(aspect = 'equal')\n",
    "\n",
    "plt.show()\n",
    "\n",
    "# fig.savefig('VisualizationTest/vertex_visibility_' + sequence_name + dataset_number + '_Group' + group_number + '_frame' + animation_frame + '.png')"
   ]
  },
  {
   "cell_type": "markdown",
   "metadata": {},
   "source": [
    "## Plot camera position and 3D scatter plot the vertices coloured by visibility\n",
    "(in world coordinates)"
   ]
  },
  {
   "cell_type": "code",
   "execution_count": null,
   "metadata": {},
   "outputs": [],
   "source": [
    "# 3D scatter plot of the vertices coloured by visibility\n",
    "# Including camera position\n",
    "\n",
    "# plot_camera_and_vertices(X=X_world, Y=Y_world, Z=Z_world, vertex_size=50)\n",
    "\n",
    "plot_camera_and_vertices(sequence_name=sequence_name,\n",
    "                             dataset_number=dataset_number, \n",
    "                             group_number=group_number, \n",
    "                             animation_frame=animation_frame, \n",
    "                             X=X_world, Y=Y_world, Z=Z_world,\n",
    "                             occlusion_mask_values=occlusion_mask_values,\n",
    "                             camera_x=camera_worldCoord_x,\n",
    "                             camera_y=camera_worldCoord_y,\n",
    "                             camera_z=camera_worldCoord_z,\n",
    "                             xmin=xmin, ymin=ymin, zmin=zmin, xmax=xmax, ymax=ymax, zmax=zmax,\n",
    "                             swap_axes=0,\n",
    "                             vertex_size=50)"
   ]
  },
  {
   "cell_type": "markdown",
   "metadata": {},
   "source": [
    "## 2D scatter plot of the pixel location of each vertex\n",
    "Using both visible and occluded vertices"
   ]
  },
  {
   "cell_type": "code",
   "execution_count": null,
   "metadata": {},
   "outputs": [],
   "source": [
    "# 2D scatter plot of the pixel location of each vertex\n",
    "# Using both visible and occluded vertices\n",
    "\n",
    "functions_plot.plot_uv_on_RGB(u_visible=u_visible, v_visible=v_visible, \n",
    "                                      u_occluded=u_occluded, v_occluded=v_occluded,\n",
    "                                      sequence_name=sequence_name, dataset_number=dataset_number, \n",
    "                                      group_number=group_number, animation_frame=animation_frame)"
   ]
  },
  {
   "cell_type": "markdown",
   "metadata": {},
   "source": [
    "## 2D scatter plot of the pixel location of each vertex\n",
    "Using only visible vertices"
   ]
  },
  {
   "cell_type": "code",
   "execution_count": null,
   "metadata": {
    "scrolled": false
   },
   "outputs": [],
   "source": [
    "# 2D scatter plot of the pixel location of each vertex\n",
    "# Using only visible vertices\n",
    "\n",
    "fig = plt.figure()\n",
    "ax = fig.add_subplot(111)\n",
    "\n",
    "ax.scatter(u_visible, v_visible, c='b', marker='o', s=50)\n",
    "\n",
    "plt.gca().invert_yaxis() # the origin of the (u, v) coordinates is top-left\n",
    "\n",
    "ax.set_xlabel('u')\n",
    "ax.set_ylabel('v')\n",
    "\n",
    "plt.title('Pixel location of each visible vertex\\n' + sequence_name + '_' + dataset_number + ' - Group ' + group_number + ' - Animation frame ' + animation_frame)\n",
    "\n",
    "ax.set_aspect(aspect = 'equal')\n",
    "\n",
    "plt.show()\n",
    "\n",
    "fig.savefig('VisualizationTest/pixelLocationOfVisibleVertices_' + sequence_name + dataset_number + '_Group' + group_number + '_frame' + animation_frame + '.png')"
   ]
  },
  {
   "cell_type": "markdown",
   "metadata": {},
   "source": [
    "## Plot RGB and landmaks"
   ]
  },
  {
   "cell_type": "code",
   "execution_count": null,
   "metadata": {},
   "outputs": [],
   "source": [
    "functions_plot.plot_RGB_and_landmarks(u_visible=u_visible, v_visible=v_visible, \n",
    "                                      u_occluded=u_occluded, v_occluded=v_occluded,\n",
    "                                      sequence_name=sequence_name, dataset_number=dataset_number, \n",
    "                                      group_number=group_number, animation_frame=animation_frame)"
   ]
  },
  {
   "cell_type": "markdown",
   "metadata": {},
   "source": [
    "# Normalize 0<=u,v<=1"
   ]
  },
  {
   "cell_type": "code",
   "execution_count": null,
   "metadata": {},
   "outputs": [],
   "source": [
    "print(u)\n",
    "u, v = functions_data_processing.normalize_uv_01(u=u, v=v)\n",
    "print(u)\n",
    "u, v = functions_data_processing.unnormalize_uv_01(u=u, v=v)\n",
    "print(u)"
   ]
  },
  {
   "cell_type": "code",
   "execution_count": null,
   "metadata": {},
   "outputs": [],
   "source": [
    "filename = 'Renders' + sequence_name + dataset_number + '/Group.' + group_number \n",
    "filename += '/vertices_' + animation_frame\n",
    "if reordered == 1:\n",
    "    filename+= '_reordered'\n",
    "filename+='.txt'\n",
    "f = open(filename, 'r')\n",
    "line1 = f.readline()\n",
    "df_vertices_all_data = pd.read_csv(f, sep = ' ',  names = line1.replace('# ', '').split())\n",
    "\n",
    "#\n",
    "# Select the submesh only\n",
    "#\n",
    "if submesh_idx!=None:\n",
    "    df_vertices_all_data = df_vertices_all_data.ix[submesh_idx]\n",
    "\n",
    "# Normalize\n",
    "uv = df_vertices_all_data[['u', 'v']].values\n",
    "uv_original=uv\n",
    "uv = functions_data_processing.normalize_uv_01(uv=uv)\n",
    "\n",
    "# Unnormalize\n",
    "uv = functions_data_processing.unnormalize_uv_01(uv=uv)\n",
    "print(uv_original==uv)"
   ]
  },
  {
   "cell_type": "code",
   "execution_count": null,
   "metadata": {},
   "outputs": [],
   "source": []
  }
 ],
 "metadata": {
  "kernelspec": {
   "display_name": "2d_to_3d_ipynb",
   "language": "python",
   "name": "2d_to_3d_ipynb"
  },
  "language_info": {
   "codemirror_mode": {
    "name": "ipython",
    "version": 3
   },
   "file_extension": ".py",
   "mimetype": "text/x-python",
   "name": "python",
   "nbconvert_exporter": "python",
   "pygments_lexer": "ipython3",
   "version": "3.6.5"
  }
 },
 "nbformat": 4,
 "nbformat_minor": 2
}
