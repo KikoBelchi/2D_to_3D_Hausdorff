{
 "cells": [
  {
   "cell_type": "markdown",
   "metadata": {},
   "source": [
    "# CAVEAT\n",
    "The following instruction **does not work for 3D plots**:\n",
    "```\n",
    "ax.set_aspect(aspect = 'equal')\n",
    "```"
   ]
  },
  {
   "cell_type": "markdown",
   "metadata": {},
   "source": [
    "# Import modules and load data"
   ]
  },
  {
   "cell_type": "code",
   "execution_count": null,
   "metadata": {},
   "outputs": [],
   "source": [
    "import numpy as np\n",
    "from numpy.linalg import inv\n",
    "import pandas as pd\n",
    "import matplotlib.pyplot as plt\n",
    "from mpl_toolkits.mplot3d import axes3d\n",
    "from skimage import io\n",
    "import torch\n",
    "\n",
    "# Allow the interactive rotation of 3D scatter plots in jupyter notebook\n",
    "import sys    \n",
    "import os    \n",
    "file_name =  os.path.basename(sys.argv[0])\n",
    "#print(file_name == 'ipykernel_launcher.py') # This basicaly asks whether this file is a jupyter notebook?\n",
    "if __name__ == \"__main__\":\n",
    "    if file_name == 'ipykernel_launcher.py': # Run only in .ipynb, not in exported .py scripts\n",
    "        get_ipython().run_line_magic('matplotlib', 'notebook') # Equivalent to ''%matplotlib notebook', but it is also understood by .py scripts\n",
    "        \n",
    "import functions_data_processing    \n",
    "from functions_data_processing import load_camera_params, get_variables_from_vertex_full_Dataframe, load_faces\n",
    "import functions_plot\n",
    "from functions_plot import plot_camera_and_vertices\n",
    "\n",
    "###\n",
    "### 2nd DataSet - RendersTowelWall2 (~ 12/07/18)\n",
    "###\n",
    "# Choose sequence and animation frame\n",
    "sequence_name = 'TowelWall'\n",
    "animation_frame = '00022'\n",
    "dataset_number = '2'\n",
    "group_number = '001'\n",
    "reordered=0 # Still using Blender's order\n",
    "\n",
    "# Load camera parameters\n",
    "variables = load_camera_params(sequence_name = 'TowelWall', dataset_number = '2')\n",
    "RT_matrix = variables['RT_matrix']\n",
    "RT_extended = variables['RT_extended']\n",
    "print(RT_extended)\n",
    "camera_worldCoord_x = variables['camera_worldCoord_x']\n",
    "camera_worldCoord_y = variables['camera_worldCoord_y']\n",
    "camera_worldCoord_z = variables['camera_worldCoord_z']\n",
    "Intrinsic_matrix = variables['Intrinsic_matrix']\n",
    "print(Intrinsic_matrix)\n",
    "Camera_proj_matrix = variables['Camera_proj_matrix']\n",
    "print('Camera_proj_matrix:')\n",
    "print(Camera_proj_matrix)\n",
    "\n",
    "# Load vertex data\n",
    "variables = get_variables_from_vertex_full_Dataframe(sequence_name=sequence_name, dataset_number=dataset_number, \n",
    "                                                     group_number=group_number, animation_frame=animation_frame,\n",
    "                                                     RT_extended=RT_extended, reordered=reordered)\n",
    "\n",
    "occlusion_mask_values = variables['occlusion_mask_values']\n",
    "u = variables['u']\n",
    "v = variables['v']\n",
    "u_visible = variables['u_visible']\n",
    "v_visible = variables['v_visible']\n",
    "X_world = variables['X_world']\n",
    "Y_world = variables['Y_world']\n",
    "Z_world = variables['Z_world']\n",
    "X_camera = variables['X_camera']\n",
    "Y_camera = variables['Y_camera']\n",
    "Z_camera = variables['Z_camera']\n",
    "nX_world = variables['nX_world']\n",
    "nY_world = variables['nY_world']\n",
    "nZ_world = variables['nZ_world']\n",
    "\n",
    "# Load face data\n",
    "faces = load_faces(sequence_name = 'TowelWall', dataset_number = '2', verbose=1)"
   ]
  },
  {
   "cell_type": "markdown",
   "metadata": {},
   "source": [
    "# Converting between coordinate systems (camera, world, film, pixel)"
   ]
  },
  {
   "cell_type": "markdown",
   "metadata": {},
   "source": [
    "### World coordinates --> Pixel coordinates\n",
    "### Note that the Camera projection matrix of camera_parameters.txt is not the one that sends camera coordinates to film coordinates, but rather, the one sending world coordinates to pixel coordinates."
   ]
  },
  {
   "cell_type": "code",
   "execution_count": null,
   "metadata": {},
   "outputs": [],
   "source": [
    "vertex_number = 1\n",
    "u_pixel_projected, v_pixel_projected, homogeneous_factor = functions_data_processing.world_to_pixel_coordinates(\n",
    "    X_world[vertex_number], Y_world[vertex_number], Z_world[vertex_number],\n",
    "    Camera_proj_matrix = Camera_proj_matrix,\n",
    "    u_original=u[vertex_number], v_original=v[vertex_number])"
   ]
  },
  {
   "cell_type": "markdown",
   "metadata": {},
   "source": [
    "#### Note that the homogeneous factor changes from vertex to vertex"
   ]
  },
  {
   "cell_type": "code",
   "execution_count": null,
   "metadata": {},
   "outputs": [],
   "source": [
    "vertex_number = 1\n",
    "u_pixel_projected1, v_pixel_projected1, homogeneous_factor1 = functions_data_processing.world_to_pixel_coordinates(\n",
    "    X_world[vertex_number], Y_world[vertex_number], Z_world[vertex_number],\n",
    "    Camera_proj_matrix = Camera_proj_matrix,\n",
    "    u_original=u[vertex_number], v_original=v[vertex_number], verbose=0)\n",
    "print('Homogeneous factor for vertex ' + str(vertex_number) + ':', homogeneous_factor)\n",
    "\n",
    "vertex_number = 2\n",
    "u_pixel_projected2, v_pixel_projected2, homogeneous_factor2 = functions_data_processing.world_to_pixel_coordinates(\n",
    "    X_world[vertex_number], Y_world[vertex_number], Z_world[vertex_number],\n",
    "    Camera_proj_matrix = Camera_proj_matrix,\n",
    "    u_original=u[vertex_number], v_original=v[vertex_number], verbose=0)\n",
    "print('Homogeneous factor for vertex ' + str(vertex_number) + ':', homogeneous_factor)"
   ]
  },
  {
   "cell_type": "markdown",
   "metadata": {},
   "source": [
    "### Pixel coordinates --> World coordinates"
   ]
  },
  {
   "cell_type": "code",
   "execution_count": null,
   "metadata": {},
   "outputs": [],
   "source": [
    "vertex_number = 1\n",
    "X_world_projected1, Y_world_projected1, Z_world_projected1= functions_data_processing.pixel_to_world_coordinates(\n",
    "    u=u_pixel_projected1, v=v_pixel_projected1, homogeneous_factor=homogeneous_factor1, \n",
    "    Camera_proj_matrix=Camera_proj_matrix,\n",
    "    Z_world_GT=Z_world[vertex_number],\n",
    "    X_world_GT=X_world[vertex_number],\n",
    "    Y_world_GT=Y_world[vertex_number])"
   ]
  },
  {
   "cell_type": "code",
   "execution_count": null,
   "metadata": {},
   "outputs": [],
   "source": [
    "X_world_projected1, Y_world_projected1, Z_world_projected1= functions_data_processing.pixel_to_world_coordinates_knowing_Y(\n",
    "    u=u_pixel_projected1, v=v_pixel_projected1, \n",
    "    C=Camera_proj_matrix,\n",
    "    Y_world_GT=Y_world[vertex_number],\n",
    "    X_world_GT=X_world[vertex_number],\n",
    "    Z_world_GT=Z_world[vertex_number])"
   ]
  },
  {
   "cell_type": "code",
   "execution_count": null,
   "metadata": {},
   "outputs": [],
   "source": [
    "device='cpu'\n",
    "vertex_number = [1, 2, 2, 2]\n",
    "Camera_proj_matrix_inv = inv(Camera_proj_matrix[:,:-1]) \n",
    "Camera_proj_matrix_inv_tensor = torch.from_numpy(Camera_proj_matrix_inv).to(device).double() \n",
    "u=torch.from_numpy(np.asarray([u_pixel_projected1, u_pixel_projected2, u_pixel_projected2, u_pixel_projected2])).to(device).double().view(-1, 1)\n",
    "v=torch.from_numpy(np.asarray([v_pixel_projected1, v_pixel_projected2, u_pixel_projected2, u_pixel_projected2])).to(device).double().view(-1, 1)\n",
    "uv = torch.cat((u, v), 1)\n",
    "Y_world_GT=torch.from_numpy(np.asarray(Y_world[vertex_number])).to(device).double().view(-1, 1)\n",
    "X_world_GT=torch.from_numpy(np.asarray(X_world[vertex_number])).to(device).double().view(-1, 1)\n",
    "Z_world_GT=torch.from_numpy(np.asarray(Z_world[vertex_number])).to(device).double().view(-1, 1)\n",
    "xyz_world_GT = torch.cat((X_world_GT, Y_world_GT, Z_world_GT), 1)\n",
    "    \n",
    "xyz_world_projected = functions_data_processing.pixel_to_world_of_mesh_of_clouds_knowing_Y(\n",
    "    uv, Camera_proj_matrix, Camera_proj_matrix_inv_tensor, Y_world_GT, xyz_world_GT, 1)"
   ]
  },
  {
   "cell_type": "markdown",
   "metadata": {},
   "source": [
    "### World coordinates --> Camera coordinates"
   ]
  },
  {
   "cell_type": "code",
   "execution_count": null,
   "metadata": {
    "scrolled": true
   },
   "outputs": [],
   "source": [
    "# Aplication to a single vertex at a time\n",
    "print(\"Coordinates of vertex\", vertex_number)\n",
    "print(\"X, Y, Z world coordinates:\\t %8.2f %8.2f %8.2f\" % (X_world[vertex_number], Y_world[vertex_number], Z_world[vertex_number]))\n",
    "(X_camera_of1vertex, Y_camera_of1vertex, Z_camera_of1vertex) = functions_data_processing.world_to_camera_coordinates(X_world[vertex_number], Y_world[vertex_number], Z_world[vertex_number], RT_extended)\n",
    "print(\"X, Y, Z camera coordinates:\\t %8.2f %8.2f %8.2f\" % (X_camera_of1vertex, Y_camera_of1vertex, Z_camera_of1vertex))\n",
    "print()"
   ]
  },
  {
   "cell_type": "code",
   "execution_count": null,
   "metadata": {},
   "outputs": [],
   "source": [
    "# Application to the whole dataset\n",
    "(X_camera, Y_camera, Z_camera) = functions_data_processing.world_to_camera_coordinates(X_world, Y_world, Z_world, RT_extended)"
   ]
  },
  {
   "cell_type": "markdown",
   "metadata": {},
   "source": [
    "# Checking that the conversion was correct"
   ]
  },
  {
   "cell_type": "markdown",
   "metadata": {},
   "source": [
    "#### Computing camera position in camera coordinates (which should be (0,0,0)) from RT matrix and camera position in world coordinates - It works"
   ]
  },
  {
   "cell_type": "code",
   "execution_count": null,
   "metadata": {},
   "outputs": [],
   "source": [
    "print(\"Coordinates of the camera position\")\n",
    "print(\"X, Y, Z world coordinates:\\t %8.2f %8.2f %8.2f\" % (camera_worldCoord_x, camera_worldCoord_y, camera_worldCoord_z))\n",
    "(camera_cameraCoord_x, camera_cameraCoord_y, camera_cameraCoord_z) = functions_data_processing.world_to_camera_coordinates(camera_worldCoord_x, camera_worldCoord_y, camera_worldCoord_z, RT_extended)\n",
    "print(\"X, Y, Z camera coordinates:\\t %8.2f %8.2f %8.2f\" % (camera_cameraCoord_x, camera_cameraCoord_y, camera_cameraCoord_z))"
   ]
  },
  {
   "cell_type": "markdown",
   "metadata": {},
   "source": [
    "#### 3D scatter plot of the vertices coloured by visibility\n",
    "Including camera position"
   ]
  },
  {
   "cell_type": "code",
   "execution_count": null,
   "metadata": {
    "scrolled": true
   },
   "outputs": [],
   "source": [
    "# World coordinates\n",
    "plot_camera_and_vertices(sequence_name=sequence_name,\n",
    "                             dataset_number=dataset_number, \n",
    "                             group_number=group_number, \n",
    "                             animation_frame=animation_frame,\n",
    "                         X=X_world, Y=Y_world, Z=Z_world,\n",
    "                         occlusion_mask_values=occlusion_mask_values,\n",
    "                         camera_x=camera_worldCoord_x,\n",
    "                         camera_y=camera_worldCoord_y,\n",
    "                         camera_z=camera_worldCoord_z,\n",
    "                        title='world coordinates')\n",
    "\n",
    "# Camera coordinates\n",
    "plot_camera_and_vertices(sequence_name=sequence_name,\n",
    "                             dataset_number=dataset_number, \n",
    "                             group_number=group_number, \n",
    "                             animation_frame=animation_frame,\n",
    "                         X=X_camera, Y=Y_camera, Z=Z_camera,\n",
    "                         occlusion_mask_values=occlusion_mask_values,\n",
    "                         camera_x=camera_cameraCoord_x,\n",
    "                         camera_y=camera_cameraCoord_y,\n",
    "                         camera_z=camera_cameraCoord_z,\n",
    "                        title='camera coordinates')\n",
    "\n",
    "# Camera coordinates - swap axes\n",
    "plot_camera_and_vertices(sequence_name=sequence_name,\n",
    "                             dataset_number=dataset_number, \n",
    "                             group_number=group_number, \n",
    "                             animation_frame=animation_frame,\n",
    "                         X=X_camera, Y=Y_camera, Z=Z_camera,\n",
    "                         occlusion_mask_values=occlusion_mask_values,\n",
    "                         camera_x=camera_cameraCoord_x,\n",
    "                         camera_y=camera_cameraCoord_y,\n",
    "                         camera_z=camera_cameraCoord_z,\n",
    "                         swap_axes=1,\n",
    "                        title='camera coordinates')"
   ]
  },
  {
   "cell_type": "code",
   "execution_count": null,
   "metadata": {},
   "outputs": [],
   "source": []
  },
  {
   "cell_type": "code",
   "execution_count": null,
   "metadata": {},
   "outputs": [],
   "source": []
  },
  {
   "cell_type": "code",
   "execution_count": null,
   "metadata": {},
   "outputs": [],
   "source": []
  },
  {
   "cell_type": "code",
   "execution_count": null,
   "metadata": {},
   "outputs": [],
   "source": []
  },
  {
   "cell_type": "markdown",
   "metadata": {},
   "source": [
    "### World coordinates to Camera coordinates - on normal vectors\n",
    "See the function data_loading.world_to_camera_coordinates_normals"
   ]
  },
  {
   "cell_type": "code",
   "execution_count": null,
   "metadata": {
    "scrolled": true
   },
   "outputs": [],
   "source": [
    "# Aplication to a single normal vector at a time\n",
    "for vertex_number in range(2):\n",
    "    print(\"Coordinates of vertex\", vertex_number)\n",
    "    print(\"nX, nY, nZ world coordinates:\\t %8.2f %8.2f %8.2f\" % (nX_world[vertex_number], nY_world[vertex_number], nZ_world[vertex_number]))\n",
    "    (nX_camera_of1vertex, nY_camera_of1vertex, nZ_camera_of1vertex) = functions_data_processing.world_to_camera_coordinates_normals(nX_world[vertex_number], nY_world[vertex_number], nZ_world[vertex_number], RT_matrix)\n",
    "    print(\"nX, nY, nZ camera coordinates:\\t %8.2f %8.2f %8.2f\" % (nX_camera_of1vertex, nY_camera_of1vertex, nZ_camera_of1vertex))\n",
    "    print()"
   ]
  },
  {
   "cell_type": "code",
   "execution_count": null,
   "metadata": {},
   "outputs": [],
   "source": [
    "# Application to the whole dataset\n",
    "(nX_camera, nY_camera, nZ_camera) = functions_data_processing.world_to_camera_coordinates_normals(nX_world, nY_world, nZ_world, RT_matrix)"
   ]
  },
  {
   "cell_type": "markdown",
   "metadata": {},
   "source": [
    "# Checking that the conversion was correct"
   ]
  },
  {
   "cell_type": "markdown",
   "metadata": {},
   "source": [
    "#### Computing camera position in camera coordinates (which should be (0,0,0)) from RT matrix and camera position in world coordinates - It works"
   ]
  },
  {
   "cell_type": "code",
   "execution_count": null,
   "metadata": {},
   "outputs": [],
   "source": [
    "print(\"Coordinates of the camera position\")\n",
    "print(\"X, Y, Z world coordinates:\\t %8.2f %8.2f %8.2f\" % (camera_worldCoord_x, camera_worldCoord_y, camera_worldCoord_z))\n",
    "(camera_cameraCoord_x, camera_cameraCoord_y, camera_cameraCoord_z) = functions_data_processing.world_to_camera_coordinates(camera_worldCoord_x, camera_worldCoord_y, camera_worldCoord_z, RT_extended)\n",
    "print(\"X, Y, Z camera coordinates:\\t %8.2f %8.2f %8.2f\" % (camera_cameraCoord_x, camera_cameraCoord_y, camera_cameraCoord_z))"
   ]
  },
  {
   "cell_type": "markdown",
   "metadata": {},
   "source": [
    "#### 3D plot of the normals\n",
    "Including camera position"
   ]
  },
  {
   "cell_type": "code",
   "execution_count": null,
   "metadata": {
    "scrolled": true
   },
   "outputs": [],
   "source": [
    "# World coordinates\n",
    "functions_plot.plot_normal_vectors(sequence_name=sequence_name,\n",
    "                        dataset_number=dataset_number, \n",
    "                        group_number=group_number, \n",
    "                        animation_frame=animation_frame, \n",
    "                        X=X_world, Y=Y_world, Z=Z_world,\n",
    "                        nX=nX_world, nY=nY_world, nZ=nZ_world,\n",
    "                        occlusion_mask_values=occlusion_mask_values,\n",
    "                        camera_x=camera_worldCoord_x,\n",
    "                        camera_y=camera_worldCoord_y,\n",
    "                        camera_z=camera_worldCoord_z,\n",
    "                        plot_camera=1)\n",
    "\n",
    "# Camera coordinates\n",
    "functions_plot.plot_normal_vectors(sequence_name=sequence_name,\n",
    "                        dataset_number=dataset_number, \n",
    "                        group_number=group_number, \n",
    "                        animation_frame=animation_frame, \n",
    "                        X=X_camera, Y=Y_camera, Z=Z_camera,\n",
    "                        nX=nX_camera, nY=nY_camera, nZ=nZ_camera,\n",
    "                        occlusion_mask_values=occlusion_mask_values,\n",
    "                        camera_x=camera_cameraCoord_x,\n",
    "                        camera_y=camera_cameraCoord_y,\n",
    "                        camera_z=camera_cameraCoord_z,\n",
    "                        plot_camera=1)\n",
    "\n",
    "# Camera coordinates - swap axes\n",
    "functions_plot.plot_normal_vectors(sequence_name=sequence_name,\n",
    "                        dataset_number=dataset_number, \n",
    "                        group_number=group_number, \n",
    "                        animation_frame=animation_frame, \n",
    "                        X=X_camera, Y=Y_camera, Z=Z_camera,\n",
    "                        nX=nX_camera, nY=nY_camera, nZ=nZ_camera,\n",
    "                        occlusion_mask_values=occlusion_mask_values,\n",
    "                        camera_x=camera_cameraCoord_x,\n",
    "                        camera_y=camera_cameraCoord_y,\n",
    "                        camera_z=camera_cameraCoord_z,\n",
    "                        plot_camera=1, swap_axes=1)"
   ]
  },
  {
   "cell_type": "code",
   "execution_count": null,
   "metadata": {},
   "outputs": [],
   "source": []
  }
 ],
 "metadata": {
  "kernelspec": {
   "display_name": "2d_to_3d_ipynb",
   "language": "python",
   "name": "2d_to_3d_ipynb"
  },
  "language_info": {
   "codemirror_mode": {
    "name": "ipython",
    "version": 3
   },
   "file_extension": ".py",
   "mimetype": "text/x-python",
   "name": "python",
   "nbconvert_exporter": "python",
   "pygments_lexer": "ipython3",
   "version": "3.6.5"
  }
 },
 "nbformat": 4,
 "nbformat_minor": 2
}
