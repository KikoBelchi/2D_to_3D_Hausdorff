{
 "cells": [
  {
   "cell_type": "code",
   "execution_count": null,
   "metadata": {},
   "outputs": [],
   "source": [
    "# The plots of vertices and normals in world and camera coordiantes can be found in visualize_mesh.ipynb\n",
    "\n",
    "###\n",
    "### Imports\n",
    "###\n",
    "from __future__ import print_function, division\n",
    "import itertools\n",
    "import os\n",
    "import torch\n",
    "import pandas as pd\n",
    "from skimage import io, transform # package 'scikit-image'\n",
    "import numpy as np\n",
    "from torch.utils.data import Dataset, DataLoader\n",
    "from torchvision import transforms, utils\n",
    "from PIL import Image\n",
    "\n",
    "# Ignore warnings\n",
    "import warnings\n",
    "warnings.filterwarnings(\"ignore\")\n",
    "\n",
    "# Import functions from data_loading\n",
    "import data_loading\n",
    "\n",
    "# Imports for plotting\n",
    "import matplotlib.pyplot as plt # Do not use when running on the server\n",
    "from mpl_toolkits.mplot3d import axes3d # Do not use when running on the server\n",
    "\n",
    "# Allow the interactive rotation of 3D scatter plots in jupyter notebook\n",
    "import sys    \n",
    "import os    \n",
    "file_name =  os.path.basename(sys.argv[0])\n",
    "#print(file_name == 'ipykernel_launcher.py') # This basicaly asks whether this file is a jupyter notebook?\n",
    "if __name__ == \"__main__\":\n",
    "    if file_name == 'ipykernel_launcher.py': # Run only in .ipynb, not in exported .py scripts\n",
    "        get_ipython().run_line_magic('matplotlib', 'notebook') # Equivalent to ''%matplotlib notebook', but it is also understood by .py scripts\n"
   ]
  },
  {
   "cell_type": "code",
   "execution_count": null,
   "metadata": {},
   "outputs": [],
   "source": [
    "# Instanciating with transform:\n",
    "if __name__ == '__main__':\n",
    "    transformed_dataset = data_loading.vertices_Dataset(camera_coordinates = 0,\n",
    "                                                        transform = \n",
    "                                                        transforms.Compose([\n",
    "                                                            transforms.RandomResizedCrop(224),\n",
    "                                                            transforms.RandomHorizontalFlip(),\n",
    "                                                            transforms.ToTensor(),\n",
    "                                                            transforms.Normalize([0.485, 0.456, 0.406], [0.229, 0.224, 0.225])\n",
    "                                                        ])\n",
    "                                                       )\n",
    "\n",
    "    sample = transformed_dataset[22]\n",
    "    print(type(sample['image']))\n",
    "    print(sample['image'].shape)"
   ]
  },
  {
   "cell_type": "code",
   "execution_count": null,
   "metadata": {},
   "outputs": [],
   "source": [
    "print(sample['Vertex_coordinates'].shape)"
   ]
  },
  {
   "cell_type": "code",
   "execution_count": null,
   "metadata": {},
   "outputs": [],
   "source": [
    "RT_matrix = np.genfromtxt('RendersTowelWall2/camera_params.txt', delimiter=' ', skip_header=11)\n",
    "# print('RT matrix:\\n', RT_matrix)\n",
    "# print()\n",
    "\n",
    "# RT matrix for homogeneous coordinates\n",
    "zeros_and_1 = np.zeros(4)\n",
    "zeros_and_1[-1] = 1\n",
    "zeros_and_1 = np.reshape(zeros_and_1, (1,4))\n",
    "RT_extended = np.concatenate((RT_matrix, zeros_and_1), axis=0)\n",
    "# print(\"RT extended with zeros and 1 below (for homogeneous coordinates):\\n\", RT_extended)\n",
    "# print()\n",
    "\n",
    "(X_camera, Y_camera, Z_camera) = data_loading.world_to_camera_coordinates(sample['Vertex_coordinates'][:,0],\n",
    "                                                                          sample['Vertex_coordinates'][:,1],\n",
    "                                                                          sample['Vertex_coordinates'][:,2],\n",
    "                                                                          RT_extended)"
   ]
  },
  {
   "cell_type": "code",
   "execution_count": null,
   "metadata": {},
   "outputs": [],
   "source": [
    "X_camera_col = np.reshape(X_camera, (X_camera.size, 1))\n",
    "Y_camera_col = np.reshape(Y_camera, (Y_camera.size, 1))\n",
    "Z_camera_col = np.reshape(Z_camera, (Z_camera.size, 1))\n",
    "print(X_camera_col.shape)"
   ]
  },
  {
   "cell_type": "code",
   "execution_count": null,
   "metadata": {},
   "outputs": [],
   "source": [
    "sample['Vertex_coordinates'] = np.hstack((X_camera_col, Y_camera_col, Z_camera_col))\n",
    "print(sample['Vertex_coordinates'].shape)"
   ]
  },
  {
   "cell_type": "code",
   "execution_count": null,
   "metadata": {},
   "outputs": [],
   "source": [
    "(nX_camera, nY_camera, nZ_camera) = data_loading.world_to_camera_coordinates_normals(sample['normal_coordinates'][:,0],\n",
    "                                                                          sample['normal_coordinates'][:,1],\n",
    "                                                                          sample['normal_coordinates'][:,2],\n",
    "                                                                          RT_matrix)\n",
    "nX_camera_col = np.reshape(nX_camera, (nX_camera.size, 1))\n",
    "nY_camera_col = np.reshape(nY_camera, (nY_camera.size, 1))\n",
    "nZ_camera_col = np.reshape(nZ_camera, (nZ_camera.size, 1))\n",
    "print(nX_camera_col.shape)\n",
    "\n",
    "sample['normal_coordinates'] = np.hstack((nX_camera_col, nY_camera_col, nZ_camera_col))\n",
    "print(sample['normal_coordinates'].shape)"
   ]
  },
  {
   "cell_type": "code",
   "execution_count": null,
   "metadata": {},
   "outputs": [],
   "source": []
  }
 ],
 "metadata": {
  "kernelspec": {
   "display_name": "2d_to_3d_ipynb",
   "language": "python",
   "name": "2d_to_3d_ipynb"
  },
  "language_info": {
   "codemirror_mode": {
    "name": "ipython",
    "version": 3
   },
   "file_extension": ".py",
   "mimetype": "text/x-python",
   "name": "python",
   "nbconvert_exporter": "python",
   "pygments_lexer": "ipython3",
   "version": "3.6.5"
  }
 },
 "nbformat": 4,
 "nbformat_minor": 2
}
