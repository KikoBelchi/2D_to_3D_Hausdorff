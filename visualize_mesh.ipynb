{
 "cells": [
  {
   "cell_type": "markdown",
   "metadata": {},
   "source": [
    "# CAVEAT\n",
    "The following instruction **does not work for 3D plots**:\n",
    "```\n",
    "ax.set_aspect(aspect = 'equal')\n",
    "```"
   ]
  },
  {
   "cell_type": "markdown",
   "metadata": {},
   "source": [
    "# Import modules and load default data (from Dataset2)"
   ]
  },
  {
   "cell_type": "code",
   "execution_count": null,
   "metadata": {},
   "outputs": [],
   "source": [
    "import numpy as np\n",
    "import pandas as pd\n",
    "import matplotlib.pyplot as plt\n",
    "from mpl_toolkits.mplot3d import axes3d\n",
    "from skimage import io\n",
    "\n",
    "# Allow the interactive rotation of 3D scatter plots in jupyter notebook\n",
    "import sys    \n",
    "import os    \n",
    "file_name =  os.path.basename(sys.argv[0])\n",
    "#print(file_name == 'ipykernel_launcher.py') # This basicaly asks whether this file is a jupyter notebook?\n",
    "if __name__ == \"__main__\":\n",
    "    if file_name == 'ipykernel_launcher.py': # Run only in .ipynb, not in exported .py scripts\n",
    "        get_ipython().run_line_magic('matplotlib', 'notebook') # Equivalent to ''%matplotlib notebook', but it is also understood by .py scripts\n",
    "        \n",
    "import functions_data_processing    \n",
    "from functions_data_processing import load_camera_params, get_variables_from_vertex_full_Dataframe, load_faces\n",
    "import functions_plot\n",
    "from functions_plot import plot_camera_and_vertices\n",
    "\n",
    "###\n",
    "### 2nd DataSet - RendersTowelWall2 (~ 12/07/18)\n",
    "###\n",
    "# Choose sequence and animation frame\n",
    "sequence_name = 'TowelWall'\n",
    "animation_frame = '00022'\n",
    "dataset_number = '2'\n",
    "group_number = '001'\n",
    "reordered=0 # Still using Blender's order\n",
    "\n",
    "# Load camera parameters\n",
    "variables = load_camera_params(sequence_name = 'TowelWall', dataset_number = '2')\n",
    "RT_matrix = variables['RT_matrix']\n",
    "RT_extended = variables['RT_extended']\n",
    "camera_worldCoord_x = variables['camera_worldCoord_x']\n",
    "camera_worldCoord_y = variables['camera_worldCoord_y']\n",
    "camera_worldCoord_z = variables['camera_worldCoord_z']\n",
    "Intrinsic_matrix = variables['Intrinsic_matrix']\n",
    "Camera_proj_matrix = variables['Camera_proj_matrix']\n",
    "\n",
    "# Load vertex data\n",
    "variables = get_variables_from_vertex_full_Dataframe(sequence_name=sequence_name, dataset_number=dataset_number, \n",
    "                                                     group_number=group_number, animation_frame=animation_frame,\n",
    "                                                     RT_extended=RT_extended, reordered=reordered)\n",
    "\n",
    "occlusion_mask_values = variables['occlusion_mask_values']\n",
    "u = variables['u']\n",
    "v = variables['v']\n",
    "u_visible = variables['u_visible']\n",
    "v_visible = variables['v_visible']\n",
    "X_world = variables['X_world']\n",
    "Y_world = variables['Y_world']\n",
    "Z_world = variables['Z_world']\n",
    "X_camera = variables['X_camera']\n",
    "Y_camera = variables['Y_camera']\n",
    "Z_camera = variables['Z_camera']\n",
    "nX_world = variables['nX_world']\n",
    "nY_world = variables['nY_world']\n",
    "nZ_world = variables['nZ_world']\n",
    "\n",
    "# Load face data\n",
    "faces = load_faces(sequence_name = 'TowelWall', dataset_number = '2', verbose=1)"
   ]
  },
  {
   "cell_type": "markdown",
   "metadata": {},
   "source": [
    "# Reordered dataSet (~ 14/11/18)\n",
    "Towel Wall hang from different places, where now the vertices in the vertex and face dataset files are ordered left to right, top to bottom, rather than in the not-very-useful orden provided by Blender."
   ]
  },
  {
   "cell_type": "markdown",
   "metadata": {},
   "source": [
    "## Choosing sequence and animation frame - and set reordering on"
   ]
  },
  {
   "cell_type": "code",
   "execution_count": null,
   "metadata": {},
   "outputs": [],
   "source": [
    "sequence_name = 'TowelWall'\n",
    "animation_frame = '00022'\n",
    "dataset_number = '2'\n",
    "group_number = '001'\n",
    "reordered = 1 # Reordered vertices"
   ]
  },
  {
   "cell_type": "markdown",
   "metadata": {},
   "source": [
    "## Load vertex data"
   ]
  },
  {
   "cell_type": "code",
   "execution_count": null,
   "metadata": {},
   "outputs": [],
   "source": [
    "variables = get_variables_from_vertex_full_Dataframe(sequence_name=sequence_name, dataset_number=dataset_number, \n",
    "                                                     group_number=group_number, animation_frame=animation_frame,\n",
    "                                                     RT_extended=RT_extended, reordered=reordered, verbose=1)\n",
    "\n",
    "occlusion_mask_values = variables['occlusion_mask_values']\n",
    "u = variables['u']\n",
    "v = variables['v']\n",
    "u_visible = variables['u_visible']\n",
    "v_visible = variables['v_visible']\n",
    "X_world = variables['X_world']\n",
    "Y_world = variables['Y_world']\n",
    "Z_world = variables['Z_world']\n",
    "X_camera = variables['X_camera']\n",
    "Y_camera = variables['Y_camera']\n",
    "Z_camera = variables['Z_camera']\n",
    "nX_world = variables['nX_world']\n",
    "nY_world = variables['nY_world']\n",
    "nZ_world = variables['nZ_world']"
   ]
  },
  {
   "cell_type": "markdown",
   "metadata": {},
   "source": [
    "## Load face data"
   ]
  },
  {
   "cell_type": "code",
   "execution_count": null,
   "metadata": {},
   "outputs": [],
   "source": [
    "faces = load_faces(sequence_name = sequence_name, dataset_number = dataset_number, verbose=1, reordered=reordered)"
   ]
  },
  {
   "cell_type": "markdown",
   "metadata": {},
   "source": [
    "## Load camera parameters"
   ]
  },
  {
   "cell_type": "code",
   "execution_count": null,
   "metadata": {},
   "outputs": [],
   "source": [
    "variables = load_camera_params(sequence_name = sequence_name, dataset_number = dataset_number)\n",
    "RT_matrix = variables['RT_matrix']\n",
    "RT_extended = variables['RT_extended']\n",
    "camera_worldCoord_x = variables['camera_worldCoord_x']\n",
    "camera_worldCoord_y = variables['camera_worldCoord_y']\n",
    "camera_worldCoord_z = variables['camera_worldCoord_z']\n",
    "Intrinsic_matrix = variables['Intrinsic_matrix']\n",
    "Camera_proj_matrix = variables['Camera_proj_matrix']"
   ]
  },
  {
   "cell_type": "markdown",
   "metadata": {},
   "source": [
    "## Showing the 2D animation frame"
   ]
  },
  {
   "cell_type": "code",
   "execution_count": null,
   "metadata": {},
   "outputs": [],
   "source": [
    "functions_plot.show_2D_animation_frame(sequence_name, dataset_number, group_number, animation_frame)"
   ]
  },
  {
   "cell_type": "markdown",
   "metadata": {},
   "source": [
    "## 3D scatter plot of the vertices\n",
    "(in world coordinates)"
   ]
  },
  {
   "cell_type": "code",
   "execution_count": null,
   "metadata": {},
   "outputs": [],
   "source": [
    "fig = plt.figure()\n",
    "ax = fig.add_subplot(111, projection='3d')\n",
    "\n",
    "ax.scatter(X_world, Y_world, Z_world, c='b', marker='o', s=0.05)\n",
    "\n",
    "ax.set_xlabel('X')\n",
    "ax.set_ylabel('Y')\n",
    "ax.set_zlabel('Z')\n",
    "\n",
    "plt.title('Vertices of mesh in ' + sequence_name + '_' + dataset_number + '\\nGroup ' + group_number + ' - Animation frame ' + animation_frame)\n",
    "\n",
    "xmin, xmax = plt.xlim() # return the current xlim\n",
    "ymin, ymax = plt.ylim() \n",
    "zmin, zmax = ax.set_zlim() \n",
    "print('xlim:', xmin, xmax)\n",
    "print('ylim:', ymin, ymax)\n",
    "print('zlim:', zmin, zmax)\n",
    "\n",
    "#ax.set_aspect(aspect = 'equal')\n",
    "\n",
    "plt.show()\n",
    "\n",
    "fig.savefig('VisualizationTest/vertices_' + sequence_name + dataset_number + '_Group' + group_number + '_frame' + animation_frame + '.png')"
   ]
  },
  {
   "cell_type": "markdown",
   "metadata": {},
   "source": [
    "## 3D plot of the faces of the mesh\n",
    "(in world coordinates)"
   ]
  },
  {
   "cell_type": "code",
   "execution_count": null,
   "metadata": {},
   "outputs": [],
   "source": [
    "# 3D plot of the faces of the mesh\n",
    "from mpl_toolkits.mplot3d import Axes3D\n",
    "from mpl_toolkits.mplot3d.art3d import Poly3DCollection, Line3DCollection\n",
    "\n",
    "fig = plt.figure()\n",
    "ax = Axes3D(fig)\n",
    "# print(type(X_world))\n",
    "# print(X_world.shape)\n",
    "\n",
    "for face in faces:\n",
    "    x = X_world[face]\n",
    "    y = Y_world[face]\n",
    "    z = Z_world[face]\n",
    "#     print(type(x))\n",
    "#     print(x)\n",
    "    \n",
    "    verts = [list(zip(x, y, z))]\n",
    "#     print(verts)\n",
    "#     print(type(verts))\n",
    "    poly3d = Poly3DCollection(verts, linewidths=1)\n",
    "    poly3d.set_alpha(0.3) # if you don't set alpha individually and before settin facecolor, it doesn't work\n",
    "    poly3d.set_facecolor('b')\n",
    "    ax.add_collection3d(poly3d)\n",
    "\n",
    "    ax.add_collection3d(Line3DCollection(verts, colors='k', linewidths=0.2, linestyles=':'))\n",
    "\n",
    "ax.set_xlabel('X')\n",
    "ax.set_ylabel('Y')\n",
    "ax.set_zlabel('Z')\n",
    "\n",
    "ax.set_xlim([xmin, xmax])\n",
    "ax.set_ylim([ymin, ymax])\n",
    "ax.set_zlim([zmin, zmax])\n",
    "\n",
    "#ax.set_aspect(aspect = 'equal')\n",
    "\n",
    "plt.title('Faces of mesh in ' + sequence_name + '_' + dataset_number + '\\nGroup ' + group_number + ' - Animation frame ' + animation_frame)\n",
    "\n",
    "plt.show()\n",
    "\n",
    "fig.savefig('VisualizationTest/meshFaces_' + sequence_name + dataset_number + '_Group' + group_number + '_frame' + animation_frame + '.png')"
   ]
  },
  {
   "cell_type": "markdown",
   "metadata": {},
   "source": [
    "## Plot the normal vectors to the mesh at the vertices\n",
    "You can choose between world/camera coordinates\n",
    "and whether to plot the camera position as well."
   ]
  },
  {
   "cell_type": "code",
   "execution_count": null,
   "metadata": {},
   "outputs": [],
   "source": [
    "functions_plot.plot_normal_vectors(sequence_name=sequence_name,\n",
    "                        dataset_number=dataset_number, \n",
    "                        group_number=group_number, \n",
    "                        animation_frame=animation_frame, \n",
    "                        X=X_world, Y=Y_world, Z=Z_world,\n",
    "                        nX=nX_world, nY=nY_world, nZ=nZ_world,\n",
    "                        occlusion_mask_values=occlusion_mask_values,\n",
    "                        camera_x=camera_worldCoord_x,\n",
    "                        camera_y=camera_worldCoord_y,\n",
    "                        camera_z=camera_worldCoord_z,\n",
    "                        plot_camera=1, swap_axes=0)"
   ]
  },
  {
   "cell_type": "markdown",
   "metadata": {},
   "source": [
    "## 3D scatter plot of the vertices coloured by visibility\n",
    "(in world coordinates)"
   ]
  },
  {
   "cell_type": "code",
   "execution_count": null,
   "metadata": {},
   "outputs": [],
   "source": [
    "# 3D scatter plot of the vertices coloured by visibility\n",
    "# (with legend)\n",
    "\n",
    "fig = plt.figure()\n",
    "ax = fig.add_subplot(111, projection='3d')\n",
    "\n",
    "unique = list(set(occlusion_mask_values))\n",
    "#colors = [plt.cm.jet(float(i)/max(unique)) for i in unique]\n",
    "colors= ['b', 'y']\n",
    "for i, un in enumerate(unique):\n",
    "    xi = [X_world[j] for j  in range(len(X_world)) if occlusion_mask_values[j] == un]\n",
    "    yi = [Y_world[j] for j  in range(len(Y_world)) if occlusion_mask_values[j] == un]\n",
    "    zi = [Z_world[j] for j  in range(len(Z_world)) if occlusion_mask_values[j] == un]\n",
    "\n",
    "    ax.scatter(xi, yi, zi, c=colors[i], marker='o', s=0.5)\n",
    "\n",
    "ax.legend(['Visible', 'occluded'], loc=3)\n",
    "\n",
    "ax.set_xlabel('X')\n",
    "ax.set_ylabel('Y')\n",
    "ax.set_zlabel('Z')\n",
    "\n",
    "plt.title('Vertex visibility of mesh in ' + sequence_name + '_' + dataset_number + '\\nGroup ' + group_number + ' - Animation frame ' + animation_frame)\n",
    "\n",
    "ax.set_xlim([xmin, xmax])\n",
    "ax.set_ylim([ymin, ymax])\n",
    "ax.set_zlim([zmin, zmax])\n",
    "\n",
    "#ax.set_aspect(aspect = 'equal')\n",
    "\n",
    "plt.show()\n",
    "\n",
    "fig.savefig('VisualizationTest/vertex_visibility_' + sequence_name + dataset_number + '_Group' + group_number + '_frame' + animation_frame + '.png')"
   ]
  },
  {
   "cell_type": "markdown",
   "metadata": {},
   "source": [
    "## Plot camera position and 3D scatter plot the vertices coloured by visibility\n",
    "(in world coordinates)"
   ]
  },
  {
   "cell_type": "code",
   "execution_count": null,
   "metadata": {},
   "outputs": [],
   "source": [
    "# 3D scatter plot of the vertices coloured by visibility\n",
    "# Including camera position\n",
    "\n",
    "plot_camera_and_vertices(X=X_world, Y=Y_world, Z=Z_world)"
   ]
  },
  {
   "cell_type": "markdown",
   "metadata": {},
   "source": [
    "## 2D scatter plot of the pixel location of each vertex\n",
    "Using both visible and occluded vertices"
   ]
  },
  {
   "cell_type": "code",
   "execution_count": null,
   "metadata": {},
   "outputs": [],
   "source": [
    "print(u.shape, v.shape)"
   ]
  },
  {
   "cell_type": "code",
   "execution_count": null,
   "metadata": {},
   "outputs": [],
   "source": [
    "# 2D scatter plot of the pixel location of each vertex\n",
    "# Using both visible and occluded vertices\n",
    "\n",
    "fig = plt.figure()\n",
    "ax = fig.add_subplot(111)\n",
    "\n",
    "# print(u.size == v.size)\n",
    "ax.scatter(u, v, c='b', marker='o', s=0.05) # CAVEAT: I had to use '-v'\n",
    "\n",
    "plt.gca().invert_yaxis() # the origin of the (u, v) coordinates is top-left\n",
    "\n",
    "ax.set_xlabel('u')\n",
    "ax.set_ylabel('v')\n",
    "\n",
    "plt.title('Pixel location of each vertex (both visible and occluded)\\n' + sequence_name + '_' + dataset_number + ' - Group ' + group_number + ' - Animation frame ' + animation_frame)\n",
    "\n",
    "ax.set_aspect(aspect = 'equal')\n",
    "\n",
    "plt.show()\n",
    "\n",
    "fig.savefig('VisualizationTest/pixelLocationOfVisibleAndOccludedVertices_' + sequence_name + dataset_number + '_Group' + group_number + '_frame' + animation_frame + '.png')"
   ]
  },
  {
   "cell_type": "markdown",
   "metadata": {},
   "source": [
    "## 2D scatter plot of the pixel location of each vertex\n",
    "Using only visible vertices"
   ]
  },
  {
   "cell_type": "code",
   "execution_count": null,
   "metadata": {
    "scrolled": true
   },
   "outputs": [],
   "source": [
    "# 2D scatter plot of the pixel location of each vertex\n",
    "# Using only visible vertices\n",
    "\n",
    "fig = plt.figure()\n",
    "ax = fig.add_subplot(111)\n",
    "\n",
    "ax.scatter(u_visible, v_visible, c='b', marker='o', s=0.05)\n",
    "\n",
    "plt.gca().invert_yaxis() # the origin of the (u, v) coordinates is top-left\n",
    "\n",
    "ax.set_xlabel('u')\n",
    "ax.set_ylabel('v')\n",
    "\n",
    "plt.title('Pixel location of each visible vertex\\n' + sequence_name + '_' + dataset_number + ' - Group ' + group_number + ' - Animation frame ' + animation_frame)\n",
    "\n",
    "ax.set_aspect(aspect = 'equal')\n",
    "\n",
    "plt.show()\n",
    "\n",
    "fig.savefig('VisualizationTest/pixelLocationOfVisibleVertices_' + sequence_name + dataset_number + '_Group' + group_number + '_frame' + animation_frame + '.png')"
   ]
  },
  {
   "cell_type": "markdown",
   "metadata": {},
   "source": [
    "<br>\n",
    "<br>\n",
    "<br>\n",
    "<br>\n",
    "<br>\n",
    "<br>\n",
    "<br>\n",
    "<br>\n",
    "<br>\n",
    "<br>\n",
    "<br>\n",
    "<br>\n",
    "<br>\n",
    "<br>\n",
    "<br>\n",
    "<br>\n",
    "<br>\n",
    "<br>\n",
    "<br>\n",
    "<br>\n",
    "<br>\n",
    "<br>\n",
    "<br>\n",
    "<br>\n",
    "<br>\n",
    "<br>\n",
    "<br>\n",
    "<br>\n",
    "<br>\n",
    "<br>\n",
    "<br>\n",
    "<br>\n",
    "<br>\n",
    "<br>\n",
    "<br>\n",
    "<br>\n",
    "<br>\n",
    "<br>\n",
    "<br>\n",
    "<br>\n",
    "<br>\n",
    "<br>"
   ]
  },
  {
   "cell_type": "markdown",
   "metadata": {},
   "source": [
    "# Submesh: subsampled dataSet (~ 15/11/18)\n",
    "Towel Wall hang from different places, where a subsample of vertices is chosen."
   ]
  },
  {
   "cell_type": "markdown",
   "metadata": {},
   "source": [
    "## Choose sequence and animation frame"
   ]
  },
  {
   "cell_type": "code",
   "execution_count": null,
   "metadata": {},
   "outputs": [],
   "source": [
    "sequence_name = 'TowelWall'\n",
    "animation_frame = '00022'\n",
    "dataset_number = '2'\n",
    "group_number = '001'\n",
    "reordered=1"
   ]
  },
  {
   "cell_type": "markdown",
   "metadata": {},
   "source": [
    "# Choose number of vertices in each dimension"
   ]
  },
  {
   "cell_type": "code",
   "execution_count": null,
   "metadata": {},
   "outputs": [],
   "source": [
    "submesh_num_vertices_horizontal = 3\n",
    "submesh_num_vertices_vertical = 2"
   ]
  },
  {
   "cell_type": "code",
   "execution_count": null,
   "metadata": {},
   "outputs": [],
   "source": [
    "from submesh import submesh_idx_from_num_vertices_in_each_direction\n",
    "submesh_idx = submesh_idx_from_num_vertices_in_each_direction(submesh_num_vertices_vertical = submesh_num_vertices_vertical,\n",
    "                                                              submesh_num_vertices_horizontal = submesh_num_vertices_horizontal)\n",
    "print(submesh_idx)"
   ]
  },
  {
   "cell_type": "markdown",
   "metadata": {},
   "source": [
    "## Load vertex data"
   ]
  },
  {
   "cell_type": "code",
   "execution_count": null,
   "metadata": {},
   "outputs": [],
   "source": [
    "variables = get_variables_from_vertex_full_Dataframe(sequence_name, dataset_number, group_number,\n",
    "                                             animation_frame, reordered, submesh_idx=submesh_idx)\n",
    "\n",
    "occlusion_mask_values = variables['occlusion_mask_values']\n",
    "u = variables['u']\n",
    "v = variables['v']\n",
    "u_visible = variables['u_visible']\n",
    "v_visible = variables['v_visible']\n",
    "X_world = variables['X_world']\n",
    "Y_world = variables['Y_world']\n",
    "Z_world = variables['Z_world']\n",
    "X_camera = variables['X_camera']\n",
    "Y_camera = variables['Y_camera']\n",
    "Z_camera = variables['Z_camera']\n",
    "nX_world = variables['nX_world']\n",
    "nY_world = variables['nY_world']\n",
    "nZ_world = variables['nZ_world']"
   ]
  },
  {
   "cell_type": "markdown",
   "metadata": {},
   "source": [
    "## Load camera parameters"
   ]
  },
  {
   "cell_type": "code",
   "execution_count": null,
   "metadata": {},
   "outputs": [],
   "source": [
    "Camera_proj_matrix = np.genfromtxt('RendersTowelWall2/camera_params.txt', delimiter=' ', skip_header=1, skip_footer=8)\n",
    "# print('Camera projection matrix:\\n', Camera_proj_matrix)\n",
    "# print()\n",
    "\n",
    "Intrinsic_matrix = np.genfromtxt('RendersTowelWall2/camera_params.txt', delimiter=' ', skip_header=6, skip_footer=4)\n",
    "# print('Instrinsic matrix:\\n', Intrinsic_matrix)\n",
    "# print()\n",
    "\n",
    "RT_matrix = np.genfromtxt('RendersTowelWall2/camera_params.txt', delimiter=' ', skip_header=11)\n",
    "# print('RT matrix:\\n', RT_matrix)\n",
    "# print()\n",
    "\n",
    "camera_rotationMatrix = RT_matrix[:, 0:-1]\n",
    "# print('Rotation matrix:\\n', camera_rotationMatrix)\n",
    "# print()\n",
    "camera_translation = RT_matrix[:, -1]\n",
    "# print('Translation from origin:\\n', camera_translation)\n",
    "# print()\n",
    "\n",
    "# RT matrix for homogeneous coordinates\n",
    "zeros_and_1 = np.zeros(4)\n",
    "zeros_and_1[-1] = 1\n",
    "zeros_and_1 = np.reshape(zeros_and_1, (1,4))\n",
    "RT_extended = np.concatenate((RT_matrix, zeros_and_1), axis=0)\n",
    "# print(\"RT extended with zeros and 1 below (for homogeneous coordinates):\\n\", RT_extended)\n",
    "# print()\n",
    "\n",
    "# Coordinates in the world of the camera center: -R^{-1}*t\n",
    "camera_worldCoord_x, camera_worldCoord_y, camera_worldCoord_z = -np.dot(np.linalg.inv(camera_rotationMatrix), camera_translation)\n",
    "# print('World coordinates of the camera position:', camera_worldCoord_x, camera_worldCoord_y, camera_worldCoord_z)"
   ]
  },
  {
   "cell_type": "markdown",
   "metadata": {},
   "source": [
    "## Showing the 2D animation frame"
   ]
  },
  {
   "cell_type": "code",
   "execution_count": null,
   "metadata": {},
   "outputs": [],
   "source": [
    "plt.figure()\n",
    "image = io.imread('Renders' + sequence_name + dataset_number + '/Group.' + group_number + '/' + str(int(animation_frame)) + '.png')\n",
    "plt.imshow(image)\n",
    "plt.show()"
   ]
  },
  {
   "cell_type": "markdown",
   "metadata": {},
   "source": [
    "## 3D scatter plot of the vertices\n",
    "(in world coordinates)"
   ]
  },
  {
   "cell_type": "code",
   "execution_count": null,
   "metadata": {},
   "outputs": [],
   "source": [
    "fig = plt.figure()\n",
    "ax = fig.add_subplot(111, projection='3d')\n",
    "\n",
    "ax.scatter(X_world, Y_world, Z_world, c='b', marker='o', s=50)\n",
    "\n",
    "ax.set_xlabel('X')\n",
    "ax.set_ylabel('Y')\n",
    "ax.set_zlabel('Z')\n",
    "\n",
    "plt.title('Vertices of mesh in ' + sequence_name + '_' + dataset_number + '\\nGroup ' + group_number + ' - Animation frame ' + animation_frame)\n",
    "\n",
    "xmin, xmax = plt.xlim() # return the current xlim\n",
    "ymin, ymax = plt.ylim() \n",
    "zmin, zmax = ax.set_zlim() \n",
    "print('xlim:', xmin, xmax)\n",
    "print('ylim:', ymin, ymax)\n",
    "print('zlim:', zmin, zmax)\n",
    "\n",
    "#ax.set_aspect(aspect = 'equal')\n",
    "\n",
    "plt.show()\n",
    "\n",
    "# fig.savefig('VisualizationTest/vertices_' + sequence_name + dataset_number + '_Group' + group_number + '_frame' + animation_frame + '.png')"
   ]
  },
  {
   "cell_type": "markdown",
   "metadata": {},
   "source": [
    "## Plot the normal vectors to the mesh at the vertices\n",
    "You can choose between world/camera coordinates\n",
    "and whether to plot the camera position as well."
   ]
  },
  {
   "cell_type": "code",
   "execution_count": null,
   "metadata": {},
   "outputs": [],
   "source": [
    "def plot_normal_vectors(sequence_name=sequence_name,\n",
    "                        dataset_number=dataset_number, \n",
    "                        group_number=group_number, \n",
    "                        animation_frame=animation_frame, \n",
    "                        X=X_world, Y=Y_world, Z=Z_world,\n",
    "                        nX=nX_world, nY=nY_world, nZ=nZ_world,\n",
    "                        occlusion_mask_values=occlusion_mask_values,\n",
    "                        camera_x=camera_worldCoord_x,\n",
    "                        camera_y=camera_worldCoord_y,\n",
    "                        camera_z=camera_worldCoord_z,\n",
    "                        xmin=xmin, ymin=ymin, zmin=zmin,\n",
    "                        plot_camera=1):    \n",
    "    fig = plt.figure()\n",
    "    ax = fig.gca(projection='3d')\n",
    "\n",
    "    ax.quiver(X, Y, Z, nX, nY, nZ, length=1, normalize=True, linewidths = 1)\n",
    "\n",
    "    ax.set_xlabel('X')\n",
    "    ax.set_ylabel('Y')\n",
    "    ax.set_zlabel('Z')\n",
    "\n",
    "#     ax.set_xlim([xmin, xmax])\n",
    "#     ax.set_ylim([ymin, ymax])\n",
    "#     ax.set_zlim([zmin, zmax])\n",
    "    \n",
    "    if plot_camera==1:\n",
    "        ax.scatter(camera_x, camera_y, camera_z, c='r', marker='o', s=100)\n",
    "\n",
    "    #ax.set_aspect(aspect = 'equal')\n",
    "\n",
    "    plt.title('Normal vectors of mesh in ' + sequence_name + '_' + dataset_number + '\\nGroup ' + group_number + ' - Animation frame ' + animation_frame)\n",
    "\n",
    "    plt.show()\n",
    "\n",
    "    fig.savefig('VisualizationTest/meshNormals_' + sequence_name + dataset_number + '_Group' + group_number + '_frame' + animation_frame + '.png')\n",
    "    \n",
    "plot_normal_vectors()"
   ]
  },
  {
   "cell_type": "markdown",
   "metadata": {},
   "source": [
    "## 3D scatter plot of the vertices coloured by visibility\n",
    "(in world coordinates)"
   ]
  },
  {
   "cell_type": "code",
   "execution_count": null,
   "metadata": {},
   "outputs": [],
   "source": [
    "# 3D scatter plot of the vertices coloured by visibility\n",
    "# (with legend)\n",
    "\n",
    "fig = plt.figure()\n",
    "ax = fig.add_subplot(111, projection='3d')\n",
    "\n",
    "unique = list(set(occlusion_mask_values))\n",
    "#colors = [plt.cm.jet(float(i)/max(unique)) for i in unique]\n",
    "colors= ['b', 'y']\n",
    "for i, un in enumerate(unique):\n",
    "    xi = [X_world[j] for j  in range(len(X)) if occlusion_mask_values[j] == un]\n",
    "    yi = [Y_world[j] for j  in range(len(Y)) if occlusion_mask_values[j] == un]\n",
    "    zi = [Z_world[j] for j  in range(len(Z)) if occlusion_mask_values[j] == un]\n",
    "\n",
    "    ax.scatter(xi, yi, zi, c=colors[i], marker='o', s=50)\n",
    "\n",
    "ax.legend(['Visible', 'occluded'], loc=3)\n",
    "\n",
    "ax.set_xlabel('X')\n",
    "ax.set_ylabel('Y')\n",
    "ax.set_zlabel('Z')\n",
    "\n",
    "plt.title('Vertex visibility of mesh in ' + sequence_name + '_' + dataset_number + '\\nGroup ' + group_number + ' - Animation frame ' + animation_frame)\n",
    "\n",
    "ax.set_xlim([xmin, xmax])\n",
    "ax.set_ylim([ymin, ymax])\n",
    "ax.set_zlim([zmin, zmax])\n",
    "\n",
    "#ax.set_aspect(aspect = 'equal')\n",
    "\n",
    "plt.show()\n",
    "\n",
    "# fig.savefig('VisualizationTest/vertex_visibility_' + sequence_name + dataset_number + '_Group' + group_number + '_frame' + animation_frame + '.png')"
   ]
  },
  {
   "cell_type": "markdown",
   "metadata": {},
   "source": [
    "## Plot camera position and 3D scatter plot the vertices coloured by visibility\n",
    "(in world coordinates)"
   ]
  },
  {
   "cell_type": "code",
   "execution_count": null,
   "metadata": {},
   "outputs": [],
   "source": [
    "# 3D scatter plot of the vertices coloured by visibility\n",
    "# Including camera position\n",
    "\n",
    "plot_camera_and_vertices(X=X_world, Y=Y_world, Z=Z_world, vertex_size=50)"
   ]
  },
  {
   "cell_type": "markdown",
   "metadata": {},
   "source": [
    "## 2D scatter plot of the pixel location of each vertex\n",
    "Using both visible and occluded vertices"
   ]
  },
  {
   "cell_type": "code",
   "execution_count": null,
   "metadata": {},
   "outputs": [],
   "source": [
    "print(u.shape, v.shape)"
   ]
  },
  {
   "cell_type": "code",
   "execution_count": null,
   "metadata": {},
   "outputs": [],
   "source": [
    "# 2D scatter plot of the pixel location of each vertex\n",
    "# Using both visible and occluded vertices\n",
    "\n",
    "fig = plt.figure()\n",
    "ax = fig.add_subplot(111)\n",
    "\n",
    "# print(u.size == v.size)\n",
    "ax.scatter(u, v, c='b', marker='o', s=50) # CAVEAT: I had to use '-v'\n",
    "\n",
    "plt.gca().invert_yaxis() # the origin of the (u, v) coordinates is top-left\n",
    "\n",
    "ax.set_xlabel('u')\n",
    "ax.set_ylabel('v')\n",
    "\n",
    "plt.title('Pixel location of each vertex (both visible and occluded)\\n' + sequence_name + '_' + dataset_number + ' - Group ' + group_number + ' - Animation frame ' + animation_frame)\n",
    "\n",
    "ax.set_aspect(aspect = 'equal')\n",
    "\n",
    "plt.show()\n",
    "\n",
    "# fig.savefig('VisualizationTest/pixelLocationOfVisibleAndOccludedVertices_' + sequence_name + dataset_number + '_Group' + group_number + '_frame' + animation_frame + '.png')"
   ]
  },
  {
   "cell_type": "markdown",
   "metadata": {},
   "source": [
    "## 2D scatter plot of the pixel location of each vertex\n",
    "Using only visible vertices"
   ]
  },
  {
   "cell_type": "code",
   "execution_count": null,
   "metadata": {
    "scrolled": false
   },
   "outputs": [],
   "source": [
    "# 2D scatter plot of the pixel location of each vertex\n",
    "# Using only visible vertices\n",
    "\n",
    "fig = plt.figure()\n",
    "ax = fig.add_subplot(111)\n",
    "\n",
    "ax.scatter(u_visible, v_visible, c='b', marker='o', s=50)\n",
    "\n",
    "plt.gca().invert_yaxis() # the origin of the (u, v) coordinates is top-left\n",
    "\n",
    "ax.set_xlabel('u')\n",
    "ax.set_ylabel('v')\n",
    "\n",
    "plt.title('Pixel location of each visible vertex\\n' + sequence_name + '_' + dataset_number + ' - Group ' + group_number + ' - Animation frame ' + animation_frame)\n",
    "\n",
    "ax.set_aspect(aspect = 'equal')\n",
    "\n",
    "plt.show()\n",
    "\n",
    "fig.savefig('VisualizationTest/pixelLocationOfVisibleVertices_' + sequence_name + dataset_number + '_Group' + group_number + '_frame' + animation_frame + '.png')"
   ]
  },
  {
   "cell_type": "code",
   "execution_count": null,
   "metadata": {},
   "outputs": [],
   "source": []
  },
  {
   "cell_type": "code",
   "execution_count": null,
   "metadata": {},
   "outputs": [],
   "source": []
  },
  {
   "cell_type": "code",
   "execution_count": null,
   "metadata": {},
   "outputs": [],
   "source": []
  },
  {
   "cell_type": "code",
   "execution_count": null,
   "metadata": {},
   "outputs": [],
   "source": []
  }
 ],
 "metadata": {
  "kernelspec": {
   "display_name": "2d_to_3d_ipynb",
   "language": "python",
   "name": "2d_to_3d_ipynb"
  },
  "language_info": {
   "codemirror_mode": {
    "name": "ipython",
    "version": 3
   },
   "file_extension": ".py",
   "mimetype": "text/x-python",
   "name": "python",
   "nbconvert_exporter": "python",
   "pygments_lexer": "ipython3",
   "version": "3.6.5"
  }
 },
 "nbformat": 4,
 "nbformat_minor": 2
}
